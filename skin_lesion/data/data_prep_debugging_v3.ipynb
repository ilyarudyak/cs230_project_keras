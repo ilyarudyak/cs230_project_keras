{
 "cells": [
  {
   "cell_type": "code",
   "execution_count": 2,
   "metadata": {},
   "outputs": [
    {
     "name": "stdout",
     "output_type": "stream",
     "text": [
      "The autoreload extension is already loaded. To reload it, use:\n",
      "  %reload_ext autoreload\n"
     ]
    }
   ],
   "source": [
    "from imutils import paths\n",
    "from pathlib import Path\n",
    "import os\n",
    "import tensorflow as tf\n",
    "from tensorflow.keras.preprocessing import image as image_utils\n",
    "import matplotlib.pyplot as plt\n",
    "import matplotlib\n",
    "import numpy as np\n",
    "from tensorflow.keras.preprocessing.image import load_img\n",
    "from tensorflow.keras.preprocessing.image import img_to_array\n",
    "from tensorflow.keras.preprocessing.image import array_to_img\n",
    "\n",
    "import sys\n",
    "project_directory = str(Path.home() / 'projects/cs230_project_keras')\n",
    "working_directory = str(Path.home() / 'projects/cs230_project_keras/skin_lesion')\n",
    "sys.path.append(project_directory)\n",
    "sys.path.append(working_directory)\n",
    "\n",
    "from data_gen import SkinLesionDataGen\n",
    "from utils import Params\n",
    "import data_utils\n",
    "\n",
    "%matplotlib inline\n",
    "%load_ext autoreload\n",
    "%autoreload 2"
   ]
  },
  {
   "cell_type": "markdown",
   "metadata": {},
   "source": [
    "Let's create a toy dataset for a preliminary tuning of hyperparameters."
   ]
  },
  {
   "cell_type": "code",
   "execution_count": 15,
   "metadata": {},
   "outputs": [
    {
     "name": "stdout",
     "output_type": "stream",
     "text": [
      "/Users/ilyarudyak/data/isic_2018/toy/train/images\n",
      "/Users/ilyarudyak/data/isic_2018/toy/train/masks\n",
      "/Users/ilyarudyak/data/isic_2018/toy/val/images\n",
      "/Users/ilyarudyak/data/isic_2018/toy/val/masks\n",
      "/Users/ilyarudyak/data/isic_2018/toy/test/images\n",
      "/Users/ilyarudyak/data/isic_2018/toy/test/masks\n"
     ]
    }
   ],
   "source": [
    "data_utils.create_toy_dirs()"
   ]
  },
  {
   "cell_type": "code",
   "execution_count": 16,
   "metadata": {},
   "outputs": [
    {
     "name": "stdout",
     "output_type": "stream",
     "text": [
      "toy_dir_name:/Users/ilyarudyak/data/isic_2018/toy/train/images num_files=155\n",
      "toy_dir_name:/Users/ilyarudyak/data/isic_2018/toy/train/masks num_files=155\n",
      "toy_dir_name:/Users/ilyarudyak/data/isic_2018/toy/val/images num_files=51\n",
      "toy_dir_name:/Users/ilyarudyak/data/isic_2018/toy/val/masks num_files=51\n",
      "toy_dir_name:/Users/ilyarudyak/data/isic_2018/toy/test/images num_files=51\n",
      "toy_dir_name:/Users/ilyarudyak/data/isic_2018/toy/test/masks num_files=51\n"
     ]
    }
   ],
   "source": [
    "data_utils.copy_toy_files()"
   ]
  },
  {
   "cell_type": "code",
   "execution_count": null,
   "metadata": {},
   "outputs": [],
   "source": []
  },
  {
   "cell_type": "code",
   "execution_count": null,
   "metadata": {},
   "outputs": [],
   "source": []
  },
  {
   "cell_type": "code",
   "execution_count": null,
   "metadata": {},
   "outputs": [],
   "source": []
  },
  {
   "cell_type": "code",
   "execution_count": null,
   "metadata": {},
   "outputs": [],
   "source": []
  },
  {
   "cell_type": "code",
   "execution_count": null,
   "metadata": {},
   "outputs": [],
   "source": []
  },
  {
   "cell_type": "code",
   "execution_count": null,
   "metadata": {},
   "outputs": [],
   "source": []
  },
  {
   "cell_type": "code",
   "execution_count": null,
   "metadata": {},
   "outputs": [],
   "source": []
  },
  {
   "cell_type": "code",
   "execution_count": null,
   "metadata": {},
   "outputs": [],
   "source": []
  },
  {
   "cell_type": "code",
   "execution_count": null,
   "metadata": {},
   "outputs": [],
   "source": []
  },
  {
   "cell_type": "code",
   "execution_count": null,
   "metadata": {},
   "outputs": [],
   "source": []
  },
  {
   "cell_type": "code",
   "execution_count": null,
   "metadata": {},
   "outputs": [],
   "source": []
  },
  {
   "cell_type": "code",
   "execution_count": null,
   "metadata": {},
   "outputs": [],
   "source": []
  },
  {
   "cell_type": "code",
   "execution_count": null,
   "metadata": {},
   "outputs": [],
   "source": []
  },
  {
   "cell_type": "code",
   "execution_count": null,
   "metadata": {},
   "outputs": [],
   "source": []
  },
  {
   "cell_type": "code",
   "execution_count": null,
   "metadata": {},
   "outputs": [],
   "source": []
  }
 ],
 "metadata": {
  "kernelspec": {
   "display_name": "Python 3",
   "language": "python",
   "name": "python3"
  },
  "language_info": {
   "codemirror_mode": {
    "name": "ipython",
    "version": 3
   },
   "file_extension": ".py",
   "mimetype": "text/x-python",
   "name": "python",
   "nbconvert_exporter": "python",
   "pygments_lexer": "ipython3",
   "version": "3.6.9"
  }
 },
 "nbformat": 4,
 "nbformat_minor": 2
}
