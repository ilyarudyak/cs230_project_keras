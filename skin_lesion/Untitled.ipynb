{
 "cells": [
  {
   "cell_type": "markdown",
   "metadata": {},
   "source": [
    "What can we optimize?\n",
    "\n",
    "1. learning rate (very important for us);\n",
    "2. batch size (unusually important and we forced to use very small batches);\n",
    "3. image size (224, 256 etc.);\n",
    "4. using `LeakyReLU` instead of `ReLU` and parameter `alpha`;\n",
    "5. model: \n",
    "    - increase number of layers (looks like we need much bigger model than the `FullUnet`); \n",
    "    - add batch normalization (?);\n",
    "    - kernel initializer (?);\n",
    "    - change optimiser (?);\n",
    "6. advanced model:\n",
    "    - use attention;\n",
    "    - use transfer learning;"
   ]
  },
  {
   "cell_type": "markdown",
   "metadata": {},
   "source": [
    "|## | parameter             | value             |\n",
    "|---| ----------------      | ----------------- |\n",
    "|(1)| `learning_rate`       | `1e-5`            |\n",
    "|(2)| `batch size`          | `2`               |\n",
    "|(3)| `input_shape`         | `256 (?)`         |\n",
    "|(4)| `alpha`               | `.3 (?)`          |\n",
    "\n",
    "|(5)| size of the model     | `(?)`             |\n",
    "|(6)| batch normalization   | `(?)`             |\n",
    "|(7)| `kernel_initializer`  | `he_uniform`      |\n",
    "|(8)| `optimizer`           | `(?)`             |"
   ]
  },
  {
   "cell_type": "code",
   "execution_count": null,
   "metadata": {},
   "outputs": [],
   "source": []
  },
  {
   "cell_type": "code",
   "execution_count": null,
   "metadata": {},
   "outputs": [],
   "source": []
  },
  {
   "cell_type": "code",
   "execution_count": null,
   "metadata": {},
   "outputs": [],
   "source": []
  },
  {
   "cell_type": "code",
   "execution_count": null,
   "metadata": {},
   "outputs": [],
   "source": []
  }
 ],
 "metadata": {
  "kernelspec": {
   "display_name": "Python 3",
   "language": "python",
   "name": "python3"
  },
  "language_info": {
   "codemirror_mode": {
    "name": "ipython",
    "version": 3
   },
   "file_extension": ".py",
   "mimetype": "text/x-python",
   "name": "python",
   "nbconvert_exporter": "python",
   "pygments_lexer": "ipython3",
   "version": "3.6.9"
  }
 },
 "nbformat": 4,
 "nbformat_minor": 2
}
